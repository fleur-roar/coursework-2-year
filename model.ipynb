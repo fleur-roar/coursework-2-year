{
 "cells": [
  {
   "cell_type": "markdown",
   "id": "cafadb3b",
   "metadata": {},
   "source": [
    "К этому моменту твиты уже очищенны от повторений, от \"лишних хэштегов\" (#анекдот, #нашапсихология), указывающих на стандартную рассылку, не имеющую ничего общего с подходящими для исследования употреблениями, а также выделенные при помощи Twitter API твиты очищены от состоящих из одних только упоминаний и хэштегов (слова, начинающиеся на # и @, соответственно)."
   ]
  },
  {
   "cell_type": "markdown",
   "id": "2d433c53",
   "metadata": {},
   "source": [
    "## Пункт 1. Объединение датасетов в один\n",
    "Здесь используются два корпуса, находящихся в открытом доступе на сайте"
   ]
  },
  {
   "cell_type": "code",
   "execution_count": 1,
   "id": "697e9776",
   "metadata": {},
   "outputs": [],
   "source": [
    "import pandas as pd"
   ]
  },
  {
   "cell_type": "markdown",
   "id": "d8538f04",
   "metadata": {},
   "source": [
    "вручную размеченный корпус"
   ]
  },
  {
   "cell_type": "code",
   "execution_count": 2,
   "id": "ffdd21dd",
   "metadata": {},
   "outputs": [
    {
     "data": {
      "text/plain": [
       "(1550, 3)"
      ]
     },
     "execution_count": 2,
     "metadata": {},
     "output_type": "execute_result"
    }
   ],
   "source": [
    "ironical = pd.read_csv('irony_corpus.csv', encoding=\"utf8\")\n",
    "ironical.shape"
   ]
  },
  {
   "cell_type": "markdown",
   "id": "3ba76c4f",
   "metadata": {},
   "source": [
    "выделенный по хэштегам набор"
   ]
  },
  {
   "cell_type": "code",
   "execution_count": 3,
   "id": "01734f38",
   "metadata": {},
   "outputs": [
    {
     "data": {
      "text/plain": [
       "(437, 2)"
      ]
     },
     "execution_count": 3,
     "metadata": {},
     "output_type": "execute_result"
    }
   ],
   "source": [
    "sarcasm = pd.read_csv('sarcasm.csv', encoding=\"utf8\")\n",
    "sarcasm.shape"
   ]
  },
  {
   "cell_type": "markdown",
   "id": "03763393",
   "metadata": {},
   "source": [
    "Корпус Ю. Рубцовой"
   ]
  },
  {
   "cell_type": "code",
   "execution_count": 4,
   "id": "5c8ab9ea",
   "metadata": {},
   "outputs": [
    {
     "name": "stdout",
     "output_type": "stream",
     "text": [
      "(5000, 12) (5000, 12)\n"
     ]
    }
   ],
   "source": [
    "positive = pd.read_csv('positive.csv', encoding=\"utf8\", delimiter=\";\").head(5000)\n",
    "negative = pd.read_csv('negative.csv', encoding=\"utf8\", delimiter=\";\").head(5000)\n",
    "print(positive.shape, negative.shape)"
   ]
  },
  {
   "cell_type": "code",
   "execution_count": 5,
   "id": "fa562a37",
   "metadata": {
    "scrolled": true
   },
   "outputs": [
    {
     "data": {
      "text/html": [
       "<div>\n",
       "<style scoped>\n",
       "    .dataframe tbody tr th:only-of-type {\n",
       "        vertical-align: middle;\n",
       "    }\n",
       "\n",
       "    .dataframe tbody tr th {\n",
       "        vertical-align: top;\n",
       "    }\n",
       "\n",
       "    .dataframe thead th {\n",
       "        text-align: right;\n",
       "    }\n",
       "</style>\n",
       "<table border=\"1\" class=\"dataframe\">\n",
       "  <thead>\n",
       "    <tr style=\"text-align: right;\">\n",
       "      <th></th>\n",
       "      <th>text</th>\n",
       "      <th>query</th>\n",
       "      <th>link</th>\n",
       "    </tr>\n",
       "  </thead>\n",
       "  <tbody>\n",
       "    <tr>\n",
       "      <th>0</th>\n",
       "      <td>Амбасадоры и евангелисты там :) Виндузятники -...</td>\n",
       "      <td>это была ирония</td>\n",
       "      <td>https://twitter.com/caustikk/status/1445108219...</td>\n",
       "    </tr>\n",
       "    <tr>\n",
       "      <th>1</th>\n",
       "      <td>стыдпозор</td>\n",
       "      <td>это была ирония</td>\n",
       "      <td>https://twitter.com/che_nah_/status/3995794702...</td>\n",
       "    </tr>\n",
       "    <tr>\n",
       "      <th>2</th>\n",
       "      <td>серьезно?</td>\n",
       "      <td>это была ирония</td>\n",
       "      <td>https://twitter.com/kik_butowcki123/status/618...</td>\n",
       "    </tr>\n",
       "    <tr>\n",
       "      <th>3</th>\n",
       "      <td>Какой победе, у нас вроде не война а спецопера...</td>\n",
       "      <td>это был сарказм</td>\n",
       "      <td>https://twitter.com/Draconitsa/status/15051399...</td>\n",
       "    </tr>\n",
       "    <tr>\n",
       "      <th>4</th>\n",
       "      <td>Человеческое днк совпадает на 80% с морским ог...</td>\n",
       "      <td>это была ирония</td>\n",
       "      <td>https://twitter.com/jbiQj5gRI809z0g/status/148...</td>\n",
       "    </tr>\n",
       "  </tbody>\n",
       "</table>\n",
       "</div>"
      ],
      "text/plain": [
       "                                                text            query  \\\n",
       "0  Амбасадоры и евангелисты там :) Виндузятники -...  это была ирония   \n",
       "1                                         стыдпозор   это была ирония   \n",
       "2                                         серьезно?   это была ирония   \n",
       "3  Какой победе, у нас вроде не война а спецопера...  это был сарказм   \n",
       "4  Человеческое днк совпадает на 80% с морским ог...  это была ирония   \n",
       "\n",
       "                                                link  \n",
       "0  https://twitter.com/caustikk/status/1445108219...  \n",
       "1  https://twitter.com/che_nah_/status/3995794702...  \n",
       "2  https://twitter.com/kik_butowcki123/status/618...  \n",
       "3  https://twitter.com/Draconitsa/status/15051399...  \n",
       "4  https://twitter.com/jbiQj5gRI809z0g/status/148...  "
      ]
     },
     "execution_count": 5,
     "metadata": {},
     "output_type": "execute_result"
    }
   ],
   "source": [
    "ironical.head()"
   ]
  },
  {
   "cell_type": "code",
   "execution_count": 6,
   "id": "faa68f7a",
   "metadata": {
    "scrolled": true
   },
   "outputs": [
    {
     "data": {
      "text/html": [
       "<div>\n",
       "<style scoped>\n",
       "    .dataframe tbody tr th:only-of-type {\n",
       "        vertical-align: middle;\n",
       "    }\n",
       "\n",
       "    .dataframe tbody tr th {\n",
       "        vertical-align: top;\n",
       "    }\n",
       "\n",
       "    .dataframe thead th {\n",
       "        text-align: right;\n",
       "    }\n",
       "</style>\n",
       "<table border=\"1\" class=\"dataframe\">\n",
       "  <thead>\n",
       "    <tr style=\"text-align: right;\">\n",
       "      <th></th>\n",
       "      <th>id</th>\n",
       "      <th>num</th>\n",
       "      <th>nick</th>\n",
       "      <th>text</th>\n",
       "      <th>-</th>\n",
       "      <th>-.1</th>\n",
       "      <th>-.2</th>\n",
       "      <th>-.3</th>\n",
       "      <th>-.4</th>\n",
       "      <th>-.5</th>\n",
       "      <th>-.6</th>\n",
       "      <th>-.7</th>\n",
       "    </tr>\n",
       "  </thead>\n",
       "  <tbody>\n",
       "    <tr>\n",
       "      <th>0</th>\n",
       "      <td>408906692374446080</td>\n",
       "      <td>1386325927</td>\n",
       "      <td>pleease_shut_up</td>\n",
       "      <td>@first_timee хоть я и школота, но поверь, у на...</td>\n",
       "      <td>1</td>\n",
       "      <td>0</td>\n",
       "      <td>0</td>\n",
       "      <td>0</td>\n",
       "      <td>7569</td>\n",
       "      <td>62</td>\n",
       "      <td>61</td>\n",
       "      <td>0</td>\n",
       "    </tr>\n",
       "    <tr>\n",
       "      <th>1</th>\n",
       "      <td>408906692693221377</td>\n",
       "      <td>1386325927</td>\n",
       "      <td>alinakirpicheva</td>\n",
       "      <td>Да, все-таки он немного похож на него. Но мой ...</td>\n",
       "      <td>1</td>\n",
       "      <td>0</td>\n",
       "      <td>0</td>\n",
       "      <td>0</td>\n",
       "      <td>11825</td>\n",
       "      <td>59</td>\n",
       "      <td>31</td>\n",
       "      <td>2</td>\n",
       "    </tr>\n",
       "  </tbody>\n",
       "</table>\n",
       "</div>"
      ],
      "text/plain": [
       "                   id         num             nick  \\\n",
       "0  408906692374446080  1386325927  pleease_shut_up   \n",
       "1  408906692693221377  1386325927  alinakirpicheva   \n",
       "\n",
       "                                                text  -  -.1  -.2  -.3    -.4  \\\n",
       "0  @first_timee хоть я и школота, но поверь, у на...  1    0    0    0   7569   \n",
       "1  Да, все-таки он немного похож на него. Но мой ...  1    0    0    0  11825   \n",
       "\n",
       "   -.5  -.6  -.7  \n",
       "0   62   61    0  \n",
       "1   59   31    2  "
      ]
     },
     "execution_count": 6,
     "metadata": {},
     "output_type": "execute_result"
    }
   ],
   "source": [
    "positive.head(2)"
   ]
  },
  {
   "cell_type": "code",
   "execution_count": 7,
   "id": "ceb72475",
   "metadata": {},
   "outputs": [],
   "source": [
    "first = ironical.drop(['query',\"link\"] , 1)\n",
    "second = positive.drop(['id',\"num\", \"nick\", \"-\", \"-.1\", \"-.2\",\"-.3\",\"-.4\",\"-.5\",\"-.6\",\"-.7\"] , 1)\n",
    "third = negative.drop(['id',\"num\", \"nick\", \"-\", \"-.1\", \"-.2\",\"-.3\",\"-.4\",\"-.5\",\"-.6\",\"-.7\"] , 1)"
   ]
  },
  {
   "cell_type": "code",
   "execution_count": 8,
   "id": "34aa3d99",
   "metadata": {},
   "outputs": [],
   "source": [
    "first[\"target\"] = 1\n",
    "second[\"target\"] = 0\n",
    "third[\"target\"] = 0"
   ]
  },
  {
   "cell_type": "code",
   "execution_count": 9,
   "id": "89e67944",
   "metadata": {
    "scrolled": true
   },
   "outputs": [
    {
     "data": {
      "text/html": [
       "<div>\n",
       "<style scoped>\n",
       "    .dataframe tbody tr th:only-of-type {\n",
       "        vertical-align: middle;\n",
       "    }\n",
       "\n",
       "    .dataframe tbody tr th {\n",
       "        vertical-align: top;\n",
       "    }\n",
       "\n",
       "    .dataframe thead th {\n",
       "        text-align: right;\n",
       "    }\n",
       "</style>\n",
       "<table border=\"1\" class=\"dataframe\">\n",
       "  <thead>\n",
       "    <tr style=\"text-align: right;\">\n",
       "      <th></th>\n",
       "      <th>text</th>\n",
       "      <th>target</th>\n",
       "    </tr>\n",
       "  </thead>\n",
       "  <tbody>\n",
       "    <tr>\n",
       "      <th>0</th>\n",
       "      <td>@first_timee хоть я и школота, но поверь, у на...</td>\n",
       "      <td>0</td>\n",
       "    </tr>\n",
       "    <tr>\n",
       "      <th>1</th>\n",
       "      <td>Да, все-таки он немного похож на него. Но мой ...</td>\n",
       "      <td>0</td>\n",
       "    </tr>\n",
       "  </tbody>\n",
       "</table>\n",
       "</div>"
      ],
      "text/plain": [
       "                                                text  target\n",
       "0  @first_timee хоть я и школота, но поверь, у на...       0\n",
       "1  Да, все-таки он немного похож на него. Но мой ...       0"
      ]
     },
     "execution_count": 9,
     "metadata": {},
     "output_type": "execute_result"
    }
   ],
   "source": [
    "second.head(2)"
   ]
  },
  {
   "cell_type": "code",
   "execution_count": 10,
   "id": "30d11dc4",
   "metadata": {},
   "outputs": [
    {
     "data": {
      "text/plain": [
       "(11987, 2)"
      ]
     },
     "execution_count": 10,
     "metadata": {},
     "output_type": "execute_result"
    }
   ],
   "source": [
    "frames = [first, second, third, sarcasm]\n",
    "df = pd.concat(frames)\n",
    "df.shape"
   ]
  },
  {
   "cell_type": "markdown",
   "id": "2b6a8e9a",
   "metadata": {},
   "source": [
    "Перемешаем рандомно"
   ]
  },
  {
   "cell_type": "code",
   "execution_count": 11,
   "id": "1169dfd3",
   "metadata": {},
   "outputs": [
    {
     "data": {
      "text/html": [
       "<div>\n",
       "<style scoped>\n",
       "    .dataframe tbody tr th:only-of-type {\n",
       "        vertical-align: middle;\n",
       "    }\n",
       "\n",
       "    .dataframe tbody tr th {\n",
       "        vertical-align: top;\n",
       "    }\n",
       "\n",
       "    .dataframe thead th {\n",
       "        text-align: right;\n",
       "    }\n",
       "</style>\n",
       "<table border=\"1\" class=\"dataframe\">\n",
       "  <thead>\n",
       "    <tr style=\"text-align: right;\">\n",
       "      <th></th>\n",
       "      <th>text</th>\n",
       "      <th>target</th>\n",
       "    </tr>\n",
       "  </thead>\n",
       "  <tbody>\n",
       "    <tr>\n",
       "      <th>4779</th>\n",
       "      <td>Опять температура поднялась...\\nЗавтра в больн...</td>\n",
       "      <td>0</td>\n",
       "    </tr>\n",
       "    <tr>\n",
       "      <th>3447</th>\n",
       "      <td>Я была на танцах с 17-21,  хотя я не чувствую ...</td>\n",
       "      <td>0</td>\n",
       "    </tr>\n",
       "  </tbody>\n",
       "</table>\n",
       "</div>"
      ],
      "text/plain": [
       "                                                   text  target\n",
       "4779  Опять температура поднялась...\\nЗавтра в больн...       0\n",
       "3447  Я была на танцах с 17-21,  хотя я не чувствую ...       0"
      ]
     },
     "execution_count": 11,
     "metadata": {},
     "output_type": "execute_result"
    }
   ],
   "source": [
    "df = df.sample(frac=1)\n",
    "df.head(2)"
   ]
  },
  {
   "cell_type": "code",
   "execution_count": 12,
   "id": "64a6e274",
   "metadata": {},
   "outputs": [
    {
     "data": {
      "text/plain": [
       "<AxesSubplot:title={'center':'Распределение классов (ирония и не ирония)'}>"
      ]
     },
     "execution_count": 12,
     "metadata": {},
     "output_type": "execute_result"
    },
    {
     "data": {
      "image/png": "[encoded data removed]",
      "text/plain": [
       "<Figure size 432x288 with 1 Axes>"
      ]
     },
     "metadata": {
      "needs_background": "light"
     },
     "output_type": "display_data"
    }
   ],
   "source": [
    "df[\"target\"].value_counts().plot(kind='bar', title=\"Распределение классов (ирония и не ирония)\", color = \"springgreen\")"
   ]
  },
  {
   "cell_type": "markdown",
   "id": "7b07e472",
   "metadata": {},
   "source": [
    "## Пункт 2. Pre-processing текстов твитов для построения моделей на лексических features.\n",
    "Фактически, обработка текстов представлена, как собственно-реализованная функция токенизаации + замена упоминаний на \"@\". "
   ]
  },
  {
   "cell_type": "code",
   "execution_count": 13,
   "id": "c3c366c7",
   "metadata": {},
   "outputs": [],
   "source": [
    "import regex as re"
   ]
  },
  {
   "cell_type": "code",
   "execution_count": 14,
   "id": "222ca86b",
   "metadata": {},
   "outputs": [
    {
     "name": "stderr",
     "output_type": "stream",
     "text": [
      "<ipython-input-14-c3e38299ddd4>:1: FutureWarning: The default value of regex will change from True to False in a future version.\n",
      "  df['text'] = df['text'].str.replace(r'@[\\S]+','@')\n"
     ]
    }
   ],
   "source": [
    "df['text'] = df['text'].str.replace(r'@[\\S]+','@')"
   ]
  },
  {
   "cell_type": "code",
   "execution_count": 15,
   "id": "48c4f73d",
   "metadata": {},
   "outputs": [],
   "source": [
    "from nltk.tokenize import TweetTokenizer # Так как оставляет хэштеги\n",
    "tw = TweetTokenizer()\n",
    "\n",
    "from pymorphy2 import MorphAnalyzer\n",
    "m = MorphAnalyzer()"
   ]
  },
  {
   "cell_type": "code",
   "execution_count": 16,
   "id": "f2fc0c00",
   "metadata": {},
   "outputs": [],
   "source": [
    "def my_tokenization(s): # Получает на вход строку\n",
    "    s = s.lower() # Переводит строку в нижний регистр\n",
    "    s = tw.tokenize(s) # Разбивает на токены\n",
    "    new_s = []\n",
    "    for i in s: # Проверка на то, что это слово или оставшееся упоминание\n",
    "        if not set(\"ёйцукенгшщзхфывапролджэъячсмитьбю@\").isdisjoint(i):\n",
    "            new_s.append(m.parse(i)[0].normal_form)\n",
    "    return new_s"
   ]
  },
  {
   "cell_type": "markdown",
   "id": "9a528030",
   "metadata": {},
   "source": [
    "И, наконец, разбиение данных на обучающую и тестовую выборки."
   ]
  },
  {
   "cell_type": "code",
   "execution_count": 51,
   "id": "c9477ec4",
   "metadata": {},
   "outputs": [],
   "source": [
    "from sklearn.model_selection import train_test_split\n",
    "\n",
    "train, test = train_test_split(df, test_size=0.3, random_state=42)"
   ]
  },
  {
   "cell_type": "code",
   "execution_count": 52,
   "id": "f667c7cf",
   "metadata": {},
   "outputs": [],
   "source": [
    "train_X = train[\"text\"]\n",
    "train_y = train[\"target\"]\n",
    "test_X = test[\"text\"]\n",
    "test_y = test[\"target\"]"
   ]
  },
  {
   "cell_type": "code",
   "execution_count": 53,
   "id": "05f8eb27",
   "metadata": {},
   "outputs": [
    {
     "data": {
      "text/plain": [
       "<AxesSubplot:title={'center':'Распределение классов в тестовой выборке'}>"
      ]
     },
     "execution_count": 53,
     "metadata": {},
     "output_type": "execute_result"
    },
    {
     "data": {
      "image/png": "[encoded data removed]",
      "text/plain": [
       "<Figure size 432x288 with 1 Axes>"
      ]
     },
     "metadata": {
      "needs_background": "light"
     },
     "output_type": "display_data"
    }
   ],
   "source": [
    "test_y.value_counts().plot(kind='bar', title=\"Распределение классов в тестовой выборке\", color = \"plum\")"
   ]
  },
  {
   "cell_type": "markdown",
   "id": "d4e9237c",
   "metadata": {},
   "source": [
    "## Пункт 3. Собственно обучение моделей.\n",
    "Фактически, обработка текстов представлена, как собственно-реализованная функция токенизаации + замена упоминаний на \"@\". "
   ]
  },
  {
   "cell_type": "markdown",
   "id": "02962794",
   "metadata": {},
   "source": [
    "#### Извлечение лексических признаков c помощью CountVectorizer"
   ]
  },
  {
   "cell_type": "code",
   "execution_count": 54,
   "id": "430e2f92",
   "metadata": {},
   "outputs": [],
   "source": [
    "from sklearn.feature_extraction.text import CountVectorizer"
   ]
  },
  {
   "cell_type": "code",
   "execution_count": 55,
   "id": "604616ce",
   "metadata": {},
   "outputs": [],
   "source": [
    "c_v = CountVectorizer(tokenizer=my_tokenization)\n",
    "features_matrix = c_v.fit_transform(train_X) # И fit и transform на обчающей\n",
    "test_matrix = c_v.transform(test_X) # только transform на тестовой"
   ]
  },
  {
   "cell_type": "code",
   "execution_count": 56,
   "id": "6d0dcf71",
   "metadata": {},
   "outputs": [
    {
     "data": {
      "text/plain": [
       "(8390, 14759)"
      ]
     },
     "execution_count": 56,
     "metadata": {},
     "output_type": "execute_result"
    }
   ],
   "source": [
    "features_matrix.shape"
   ]
  },
  {
   "cell_type": "markdown",
   "id": "c476a996",
   "metadata": {},
   "source": [
    "#### Извлечение лексических признаков c помощью TfidfVectorizer"
   ]
  },
  {
   "cell_type": "code",
   "execution_count": 62,
   "id": "fd4e12b2",
   "metadata": {},
   "outputs": [],
   "source": [
    "from sklearn.feature_extraction.text import TfidfVectorizer"
   ]
  },
  {
   "cell_type": "code",
   "execution_count": 67,
   "id": "7b3a1261",
   "metadata": {},
   "outputs": [],
   "source": [
    "tfidf = TfidfVectorizer(tokenizer=my_tokenization) \n",
    "tfidf_train = tfidf.fit_transform(train_X) \n",
    "tfidf_test = tfidf.transform(test_X) "
   ]
  },
  {
   "cell_type": "code",
   "execution_count": 68,
   "id": "85843be9",
   "metadata": {},
   "outputs": [
    {
     "data": {
      "text/plain": [
       "(8390, 14759)"
      ]
     },
     "execution_count": 68,
     "metadata": {},
     "output_type": "execute_result"
    }
   ],
   "source": [
    "features_matrix.shape"
   ]
  },
  {
   "cell_type": "markdown",
   "id": "5da2940f",
   "metadata": {},
   "source": [
    "### 3.1. Логистическая регрессия - первый этап"
   ]
  },
  {
   "cell_type": "code",
   "execution_count": 57,
   "id": "aacacdd3",
   "metadata": {},
   "outputs": [],
   "source": [
    "from sklearn.linear_model import LogisticRegression\n",
    "from sklearn.metrics import f1_score, precision_score, recall_score"
   ]
  },
  {
   "cell_type": "markdown",
   "id": "91a65b7f",
   "metadata": {},
   "source": [
    "I) По features, извлечённым при помощи CountVectorizer"
   ]
  },
  {
   "cell_type": "code",
   "execution_count": 58,
   "id": "f83f043a",
   "metadata": {
    "scrolled": true
   },
   "outputs": [
    {
     "data": {
      "text/plain": [
       "LogisticRegression(max_iter=300)"
      ]
     },
     "execution_count": 58,
     "metadata": {},
     "output_type": "execute_result"
    }
   ],
   "source": [
    "# Обучение\n",
    "model = LogisticRegression(max_iter=300)\n",
    "model.fit(features_matrix, train_y)"
   ]
  },
  {
   "cell_type": "code",
   "execution_count": 59,
   "id": "0fb28c23",
   "metadata": {},
   "outputs": [],
   "source": [
    "# Предсказание\n",
    "predictions_test = model.predict(test_matrix)"
   ]
  },
  {
   "cell_type": "code",
   "execution_count": 107,
   "id": "99ea10c2",
   "metadata": {},
   "outputs": [
    {
     "data": {
      "text/plain": [
       "array([[0.83779319, 0.16220681],\n",
       "       [0.99766785, 0.00233215],\n",
       "       [0.93910513, 0.06089487],\n",
       "       ...,\n",
       "       [0.97808058, 0.02191942],\n",
       "       [0.89988519, 0.10011481],\n",
       "       [0.08378669, 0.91621331]])"
      ]
     },
     "execution_count": 107,
     "metadata": {},
     "output_type": "execute_result"
    }
   ],
   "source": [
    "# Предсказание вероятностей для дальнейшей работы\n",
    "model.predict_proba(features_matrix)"
   ]
  },
  {
   "cell_type": "code",
   "execution_count": 60,
   "id": "aa386f54",
   "metadata": {},
   "outputs": [
    {
     "name": "stdout",
     "output_type": "stream",
     "text": [
      "F1-мера на тестовой выборке 0.4481236203090508\n",
      "Точность на тестовой выборке 0.6904761904761905\n",
      "Полнота на тестовой выборке 0.33169934640522875\n"
     ]
    }
   ],
   "source": [
    "# Оценка результатов\n",
    "print(\"F1-мера на тестовой выборке\", f1_score(test_y, predictions_test))\n",
    "print(\"Точность на тестовой выборке\", precision_score(test_y, predictions_test))\n",
    "print(\"Полнота на тестовой выборке\", recall_score(test_y, predictions_test))"
   ]
  },
  {
   "cell_type": "markdown",
   "id": "b3e78e89",
   "metadata": {},
   "source": [
    "Попытка без токенизации"
   ]
  },
  {
   "cell_type": "code",
   "execution_count": 102,
   "id": "8544a7bc",
   "metadata": {},
   "outputs": [
    {
     "data": {
      "text/plain": [
       "LogisticRegression(max_iter=300)"
      ]
     },
     "execution_count": 102,
     "metadata": {},
     "output_type": "execute_result"
    }
   ],
   "source": [
    "# Обучение\n",
    "model = LogisticRegression(max_iter=300)\n",
    "model.fit(features_matrix_not, train_y)"
   ]
  },
  {
   "cell_type": "code",
   "execution_count": 103,
   "id": "fbaa470b",
   "metadata": {},
   "outputs": [],
   "source": [
    "# Предсказание\n",
    "predictions_test_not = model.predict(test_matrix_not)"
   ]
  },
  {
   "cell_type": "code",
   "execution_count": 104,
   "id": "b5c34036",
   "metadata": {},
   "outputs": [
    {
     "name": "stdout",
     "output_type": "stream",
     "text": [
      "F1-мера на тестовой выборке 0.4481236203090508\n",
      "Точность на тестовой выборке 0.6904761904761905\n",
      "Полнота на тестовой выборке 0.33169934640522875\n"
     ]
    }
   ],
   "source": [
    "# Оценка результатов\n",
    "print(\"F1-мера на тестовой выборке\", f1_score(test_y, predictions_test_not))\n",
    "print(\"Точность на тестовой выборке\", precision_score(test_y, predictions_test_not))\n",
    "print(\"Полнота на тестовой выборке\", recall_score(test_y, predictions_test_not))"
   ]
  },
  {
   "cell_type": "markdown",
   "id": "b2389493",
   "metadata": {},
   "source": [
    "II) По features, извлечённым при помощи TfidfVectorizer"
   ]
  },
  {
   "cell_type": "code",
   "execution_count": 69,
   "id": "5ab509d8",
   "metadata": {},
   "outputs": [
    {
     "data": {
      "text/plain": [
       "LogisticRegression(max_iter=300)"
      ]
     },
     "execution_count": 69,
     "metadata": {},
     "output_type": "execute_result"
    }
   ],
   "source": [
    "model = LogisticRegression(max_iter=300)\n",
    "model.fit(tfidf_train, train_y)"
   ]
  },
  {
   "cell_type": "code",
   "execution_count": 70,
   "id": "bcc45a3e",
   "metadata": {},
   "outputs": [],
   "source": [
    "predictions_test = model.predict(tfidf_test)"
   ]
  },
  {
   "cell_type": "code",
   "execution_count": 71,
   "id": "9207d3e6",
   "metadata": {
    "scrolled": true
   },
   "outputs": [
    {
     "name": "stdout",
     "output_type": "stream",
     "text": [
      "F1-мера на тестовой выборке 0.2697547683923706\n",
      "Точность на тестовой выборке 0.8114754098360656\n",
      "Полнота на тестовой выборке 0.16176470588235295\n"
     ]
    }
   ],
   "source": [
    "# Оценка результатов\n",
    "print(\"F1-мера на тестовой выборке\", f1_score(test_y, predictions_test))\n",
    "print(\"Точность на тестовой выборке\", precision_score(test_y, predictions_test))\n",
    "print(\"Полнота на тестовой выборке\", recall_score(test_y, predictions_test))"
   ]
  },
  {
   "cell_type": "code",
   "execution_count": 108,
   "id": "58e2a89a",
   "metadata": {},
   "outputs": [],
   "source": [
    "tfidf_prob = model.predict_proba(features_matrix)"
   ]
  },
  {
   "cell_type": "code",
   "execution_count": 106,
   "id": "ecdfe8a9",
   "metadata": {},
   "outputs": [
    {
     "data": {
      "text/plain": [
       "array([[-0.08265555, -0.13295585, -0.11809901, ..., -0.07525952,\n",
       "        -0.09542578, -0.07797849]])"
      ]
     },
     "execution_count": 106,
     "metadata": {},
     "output_type": "execute_result"
    }
   ],
   "source": [
    "model.coef_"
   ]
  },
  {
   "cell_type": "code",
   "execution_count": 85,
   "id": "4a1e6ac8",
   "metadata": {},
   "outputs": [
    {
     "data": {
      "image/png": "[encoded data removed]",
      "text/plain": [
       "<Figure size 432x288 with 1 Axes>"
      ]
     },
     "metadata": {
      "needs_background": "light"
     },
     "output_type": "display_data"
    }
   ],
   "source": [
    "#График лог рег\n",
    "import matplotlib.pyplot as plt\n",
    "\n",
    "x = [\"F1-мера\",\"Точность\",\"Полнота\"]\n",
    "list_CV = [0.448, 0.690, 0.332]\n",
    "list_TF_IDF = [0.270, 0.811, 0.162]\n",
    "\n",
    "plt.step(x, list_CV, label='CountVectorizer', color = \"lightcoral\")\n",
    "plt.xticks(rotation=10)\n",
    "\n",
    "plt.step(x, list_TF_IDF, where='mid', label='TfidfVectorizer', color = \"darkturquoise\")\n",
    "plt.xticks(rotation=10)\n",
    "\n",
    "plt.legend()\n",
    "plt.title('Получившиеся значение основных метрик в линейной регрессии')\n",
    "plt.show()"
   ]
  },
  {
   "cell_type": "markdown",
   "id": "0b2f412e",
   "metadata": {},
   "source": [
    "### 3. Не-логистическая регрессия"
   ]
  },
  {
   "cell_type": "code",
   "execution_count": 88,
   "id": "851212f6",
   "metadata": {},
   "outputs": [],
   "source": [
    "from sklearn.tree import DecisionTreeClassifier"
   ]
  },
  {
   "cell_type": "code",
   "execution_count": 89,
   "id": "4b9f7dd7",
   "metadata": {},
   "outputs": [],
   "source": [
    "from sklearn.model_selection import cross_val_score"
   ]
  },
  {
   "cell_type": "code",
   "execution_count": 90,
   "id": "6f77791e",
   "metadata": {},
   "outputs": [],
   "source": [
    "clf = DecisionTreeClassifier(random_state=0)"
   ]
  },
  {
   "cell_type": "code",
   "execution_count": null,
   "id": "67dd658a",
   "metadata": {},
   "outputs": [],
   "source": [
    "cross_val_score(clf, iris.data, iris.target, cv=10)"
   ]
  },
  {
   "cell_type": "code",
   "execution_count": 93,
   "id": "bc9cc87f",
   "metadata": {},
   "outputs": [],
   "source": [
    "from sklearn.tree import DecisionTreeClassifier\n",
    "from sklearn.svm import SVC\n",
    "from sklearn.ensemble import BaggingClassifier, RandomForestClassifier\n"
   ]
  },
  {
   "cell_type": "code",
   "execution_count": null,
   "id": "3ee11663",
   "metadata": {},
   "outputs": [],
   "source": [
    "BC = BaggingClassifier(base_estimator=SVC(),\n",
    "                       n_estimators=10, random_state=0).fit(tfidf_train, train_y)\n",
    "predictions = BC.predict(tfidf_test)"
   ]
  },
  {
   "cell_type": "code",
   "execution_count": null,
   "id": "124af2fe",
   "metadata": {},
   "outputs": [],
   "source": [
    "# Оценка результатов\n",
    "print(\"F1-мера на тестовой выборке\", f1_score(test_y, predictions))\n",
    "print(\"Точность на тестовой выборке\", precision_score(test_y, predictions))\n",
    "print(\"Полнота на тестовой выборке\", recall_score(test_y, predictions))"
   ]
  },
  {
   "cell_type": "code",
   "execution_count": null,
   "id": "1f4ea841",
   "metadata": {},
   "outputs": [],
   "source": []
  },
  {
   "cell_type": "code",
   "execution_count": 100,
   "id": "076bb19f",
   "metadata": {},
   "outputs": [],
   "source": [
    "BC_tfidf = BaggingClassifier(base_estimator=SVC(),\n",
    "                       n_estimators=10, random_state=0).fit(tfidf_train, train_y)\n",
    "predictions_tfidf = BC.predict(tfidf_test)"
   ]
  },
  {
   "cell_type": "code",
   "execution_count": 101,
   "id": "a2d22244",
   "metadata": {},
   "outputs": [
    {
     "name": "stdout",
     "output_type": "stream",
     "text": [
      "F1-мера на тестовой выборке 0.23446327683615814\n",
      "Точность на тестовой выборке 0.8645833333333334\n",
      "Полнота на тестовой выборке 0.13562091503267973\n"
     ]
    }
   ],
   "source": [
    "# Оценка результатов\n",
    "print(\"F1-мера на тестовой выборке\", f1_score(test_y, predictions_tfidf))\n",
    "print(\"Точность на тестовой выборке\", precision_score(test_y, predictions_tfidf))\n",
    "print(\"Полнота на тестовой выборке\", recall_score(test_y, predictions_tfidf))"
   ]
  },
  {
   "cell_type": "code",
   "execution_count": null,
   "id": "10d7eb2f",
   "metadata": {},
   "outputs": [],
   "source": []
  },
  {
   "cell_type": "code",
   "execution_count": null,
   "id": "326312d2",
   "metadata": {},
   "outputs": [],
   "source": [
    "BC_tfidf = BaggingClassifier(base_estimator=SVC(),\n",
    "                       n_estimators=10, random_state=0).fit(tfidf_train, train_y)\n",
    "predictions_tfidf = BC.predict(tfidf_test)"
   ]
  },
  {
   "cell_type": "code",
   "execution_count": null,
   "id": "d867c099",
   "metadata": {},
   "outputs": [],
   "source": []
  },
  {
   "cell_type": "code",
   "execution_count": null,
   "id": "34de126b",
   "metadata": {},
   "outputs": [],
   "source": []
  }
 ],
 "metadata": {
  "kernelspec": {
   "display_name": "Python 3",
   "language": "python",
   "name": "python3"
  },
  "language_info": {
   "codemirror_mode": {
    "name": "ipython",
    "version": 3
   },
   "file_extension": ".py",
   "mimetype": "text/x-python",
   "name": "python",
   "nbconvert_exporter": "python",
   "pygments_lexer": "ipython3",
   "version": "3.8.8"
  }
 },
 "nbformat": 4,
 "nbformat_minor": 5
}
